{
  "nbformat": 4,
  "nbformat_minor": 0,
  "metadata": {
    "colab": {
      "name": "ExemploSimplesRegressao.ipynb",
      "provenance": [],
      "collapsed_sections": []
    },
    "kernelspec": {
      "name": "python3",
      "display_name": "Python 3"
    }
  },
  "cells": [
    {
      "cell_type": "markdown",
      "metadata": {
        "id": "0L2Zsc0vXVkp"
      },
      "source": [
        "# **Este é um exemplo simples de utilização de Regressão e Correlação**"
      ]
    },
    {
      "cell_type": "markdown",
      "metadata": {
        "id": "UUPwVB--SBrp"
      },
      "source": [
        "Linear_model de Sklearn que fara a regreção linear"
      ]
    },
    {
      "cell_type": "code",
      "metadata": {
        "id": "419c3mUPRqDr"
      },
      "source": [
        "import numpy as np\n",
        "from sklearn import datasets, linear_model\n",
        "import matplotlib.pyplot as plt\n",
        "from sklearn.datasets import make_blobs\n",
        "from sklearn.metrics import mean_squared_error, r2_score"
      ],
      "execution_count": 5,
      "outputs": []
    },
    {
      "cell_type": "code",
      "metadata": {
        "id": "4S_ndHxbSfHk",
        "colab": {
          "base_uri": "https://localhost:8080/",
          "height": 265
        },
        "outputId": "81b08ba9-45a7-4894-d6cd-979491b62758"
      },
      "source": [
        "production = np.array([10.5,11.5,15.0,30,15,12,10.2,35,42.2,45])\n",
        "consumption = np.array([5.25,5.75,7.5,15,7.5,6,5.1,17.5,21.1,22.5])\n",
        "\n",
        "plt.scatter(production, consumption, color='black')\n",
        "\n",
        "plt.show()"
      ],
      "execution_count": 10,
      "outputs": [
        {
          "output_type": "display_data",
          "data": {
            "image/png": "[encoded data removed]",
            "text/plain": [
              "<Figure size 432x288 with 1 Axes>"
            ]
          },
          "metadata": {
            "tags": [],
            "needs_background": "light"
          }
        }
      ]
    },
    {
      "cell_type": "markdown",
      "metadata": {
        "id": "WaCv3_p2XbeP"
      },
      "source": [
        "**regr:** variavel a qual atribuimos o método **LinearRegression()** para ser feito a regressão linear. Chamamos depois o metodo fit passando os coeficientes de correlação de (-1,1) quando mais proximo de 0 menor a correlação dos dados.\n",
        "atribuindo a y o metodo predic, fazemos a correlação do dado.\n",
        "\n",
        "**Coef_ e Intercept_** utilizamos para chamar e calcular o coeficiente de correlação e onde é feito a interceção da reta"
      ]
    },
    {
      "cell_type": "code",
      "metadata": {
        "id": "zry9oepdUktK",
        "colab": {
          "base_uri": "https://localhost:8080/",
          "height": 333
        },
        "outputId": "2dfa6def-2648-4211-b511-047ca3a6717e"
      },
      "source": [
        "production = np.array([10.5,11.5,15.0,30,15,12,10.2,35,42.2,45])\n",
        "consumption = np.array([5.25,5.75,7.5,15,7.5,6,5.1,17.5,21.1,22.5])\n",
        "regr = linear_model.LinearRegression()\n",
        "regr.fit(production.reshape(-1,1), consumption)\n",
        "y = regr.predict(production.reshape(-1,1))\n",
        "\n",
        "print('Coefficients: \\n', regr.coef_ )\n",
        "print('Intercept: \\n', regr.intercept_)\n",
        "\n",
        "#plot outputs\n",
        "\n",
        "plt.scatter(production, consumption, color='black')\n",
        "plt.plot(production, y, color='blue', linewidth=3)\n",
        "\n",
        "plt.show()"
      ],
      "execution_count": 11,
      "outputs": [
        {
          "output_type": "stream",
          "text": [
            "Coefficients: \n",
            " [0.5]\n",
            "Intercept: \n",
            " 1.7763568394002505e-15\n"
          ],
          "name": "stdout"
        },
        {
          "output_type": "display_data",
          "data": {
            "image/png": "[encoded data removed]",
            "text/plain": [
              "<Figure size 432x288 with 1 Axes>"
            ]
          },
          "metadata": {
            "tags": [],
            "needs_background": "light"
          }
        }
      ]
    },
    {
      "cell_type": "code",
      "metadata": {
        "id": "o--DRkk2Ukps"
      },
      "source": [
        ""
      ],
      "execution_count": null,
      "outputs": []
    }
  ]
}